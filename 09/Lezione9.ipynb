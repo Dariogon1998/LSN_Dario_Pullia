{
 "cells": [
  {
   "cell_type": "markdown",
   "metadata": {},
   "source": [
    "# Lezione 08"
   ]
  },
  {
   "cell_type": "markdown",
   "metadata": {},
   "source": [
    "## Dario Pullia"
   ]
  },
  {
   "cell_type": "markdown",
   "metadata": {},
   "source": [
    "### Esercizio 09.1"
   ]
  },
  {
   "cell_type": "markdown",
   "metadata": {},
   "source": [
    "Spiegazioni varie"
   ]
  },
  {
   "cell_type": "code",
   "execution_count": 4,
   "metadata": {
    "scrolled": true
   },
   "outputs": [
    {
     "data": {
      "text/plain": [
       "<Figure size 360x360 with 0 Axes>"
      ]
     },
     "metadata": {},
     "output_type": "display_data"
    }
   ],
   "source": [
    "import matplotlib\n",
    "import matplotlib.pyplot as plt\n",
    "import numpy as np\n",
    "from scipy.optimize import curve_fit\n",
    "from mpl_toolkits.mplot3d import Axes3D\n",
    "from matplotlib.collections import LineCollection\n",
    "import imageio\n",
    "\n",
    "C=0\n",
    "X,Y = np.loadtxt(\"data01/Circ/Region.dat\",  usecols=(0,1), delimiter=' ', unpack='true')\n",
    "Best = np.loadtxt(\"data01/Circ/Bests.dat\",)\n",
    "fig=plt.figure(figsize=(5, 5))\n",
    "filenames=[]\n",
    "N=(X.size)\n",
    "for j in range(0,len(Best)):\n",
    "    Xord=[]\n",
    "    Yord=[]\n",
    "    fig=plt.figure(figsize=(8, 8))\n",
    "\n",
    "\n",
    "    for i in range(X.size):\n",
    "        Xord.append(X[int(Best[j][i])])\n",
    "        Yord.append(Y[int(Best[j][i])])\n",
    "\n",
    "\n",
    "    plt.plot(Xord,Yord,marker=\"o\",markersize=4,lw=1.3, label=\"Gen\"+str(j)+\"    Len: \"+str(Best[j][N]))  \n",
    "    plt.xlabel('X')\n",
    "    plt.ylabel('Y')\n",
    "    plt.ylim([-1.5, 1.5])\n",
    "    plt.xlim([-1.5, 1.5])\n",
    "    plt.grid(True)\n",
    "    plt.legend()\n",
    "    plt.savefig(\"data01/figsCirc/%s.png\"%j,format=\"png\", dpi=150)\n",
    "    filenames.append(\"data01/figsCirc/%s.png\"%j)\n",
    "    plt.close(fig)\n",
    "\n"
   ]
  },
  {
   "cell_type": "markdown",
   "metadata": {},
   "source": [
    "<img src=\"data01/figsCirc/movie.gif\" width=\"450\" align=\"center\">"
   ]
  },
  {
   "cell_type": "code",
   "execution_count": 5,
   "metadata": {},
   "outputs": [
    {
     "data": {
      "text/plain": [
       "\"'   \\ncount=0\\n    \\nfor i in range(1,X.size):\\n    count+=(Xord[i]-Xord[i-1])**2+(Yord[i]-Yord[i-1])**2\\n\\ncount+=(Xord[N-1]-Xord[0])**2+(Yord[N-1]-Yord[0])**2\\n\\nprint(count)\\n\""
      ]
     },
     "execution_count": 5,
     "metadata": {},
     "output_type": "execute_result"
    },
    {
     "data": {
      "text/plain": [
       "<Figure size 360x360 with 0 Axes>"
      ]
     },
     "metadata": {},
     "output_type": "display_data"
    }
   ],
   "source": [
    "\n",
    "with imageio.get_writer('data01/figsCirc/movie.gif', mode='I') as writer:\n",
    "    for filename in filenames:\n",
    "        image = imageio.imread(filename)\n",
    "        writer.append_data(image)    \n",
    "    \n",
    "X,Y = np.loadtxt(\"data01/Square/Region.dat\",  usecols=(0,1), delimiter=' ', unpack='true')\n",
    "Best = np.loadtxt(\"data01/Square/Bests.dat\",)\n",
    "fig=plt.figure(figsize=(5, 5))\n",
    "filenames=[]\n",
    "N=(X.size)\n",
    "for j in range(0,len(Best)):\n",
    "    Xord=[]\n",
    "    Yord=[]\n",
    "    fig=plt.figure(figsize=(8, 8))\n",
    "\n",
    "\n",
    "    for i in range(X.size):\n",
    "        Xord.append(X[int(Best[j][i])])\n",
    "        Yord.append(Y[int(Best[j][i])])\n",
    "\n",
    "    plt.plot(Xord,Yord,marker=\"o\",markersize=4,lw=1.3, label=\"Gen\"+str(j)+\"    Len: \"+str(Best[j][N]))  \n",
    "    plt.xlabel('X')\n",
    "    plt.ylabel('Y')\n",
    "    plt.ylim([-1.5, 1.5])\n",
    "    plt.xlim([-1.5, 1.5])\n",
    "    plt.grid(True)\n",
    "    plt.legend()\n",
    "    plt.savefig(\"data01/figsSquare/%s.png\"%j,format=\"png\", dpi=150)\n",
    "    filenames.append(\"data01/figsSquare/%s.png\"%j)\n",
    "    plt.close(fig)\n",
    "    \n",
    "\n",
    "with imageio.get_writer('data01/figsSquare/movie.gif', mode='I') as writer:\n",
    "    for filename in filenames:\n",
    "        image = imageio.imread(filename)\n",
    "        writer.append_data(image)\n",
    "    \n",
    "''''   \n",
    "count=0\n",
    "    \n",
    "for i in range(1,X.size):\n",
    "    count+=(Xord[i]-Xord[i-1])**2+(Yord[i]-Yord[i-1])**2\n",
    "\n",
    "count+=(Xord[N-1]-Xord[0])**2+(Yord[N-1]-Yord[0])**2\n",
    "\n",
    "print(count)\n",
    "''' \n"
   ]
  },
  {
   "cell_type": "markdown",
   "metadata": {},
   "source": [
    "<img src=\"data01/figsSquare/movie.gif\" width=\"450\" align=\"center\">"
   ]
  },
  {
   "cell_type": "code",
   "execution_count": null,
   "metadata": {},
   "outputs": [],
   "source": []
  }
 ],
 "metadata": {
  "kernelspec": {
   "display_name": "Python 3",
   "language": "python",
   "name": "python3"
  },
  "language_info": {
   "codemirror_mode": {
    "name": "ipython",
    "version": 3
   },
   "file_extension": ".py",
   "mimetype": "text/x-python",
   "name": "python",
   "nbconvert_exporter": "python",
   "pygments_lexer": "ipython3",
   "version": "3.7.4"
  }
 },
 "nbformat": 4,
 "nbformat_minor": 2
}
